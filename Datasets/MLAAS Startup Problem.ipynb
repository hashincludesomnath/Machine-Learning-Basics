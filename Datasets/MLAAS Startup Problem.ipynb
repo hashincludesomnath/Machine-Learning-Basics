{
 "cells": [
  {
   "cell_type": "markdown",
   "metadata": {},
   "source": [
    "## Somnath\n",
    "- Mob: 8826050399\n",
    "- Email: ss.som1997@gmail.com\n",
    "- Machine Learning Morning Batch \n"
   ]
  },
  {
   "cell_type": "markdown",
   "metadata": {},
   "source": [
    "**Have a look at our hypothetical web startup, MLAAS, which sells the service of providing machine learning algorithms via HTTP. With the increasing success of our company, the demand for better infrastructure also increases to serve all incoming web requests successfully. We don't want to allocate too many resources as that would be too costly. On the other hand, we will lose money if we have not reserved enough resources for serving all incoming requests. The question now is, when will we hit the limit of our current infrastructure, which we estimated being 100,000 requests per hour. We would like to know in advance when we have to request additional servers in the cloud to serve all the incoming requests successfully without paying for unused ones.**"
   ]
  },
  {
   "cell_type": "markdown",
   "metadata": {},
   "source": [
    "**Regression model for above problem statement: **"
   ]
  },
  {
   "cell_type": "code",
   "execution_count": 2,
   "metadata": {},
   "outputs": [],
   "source": [
    "import numpy as np\n",
    "import matplotlib.pyplot as plt\n",
    "import pandas as pd\n",
    "%matplotlib inline"
   ]
  },
  {
   "cell_type": "code",
   "execution_count": 3,
   "metadata": {},
   "outputs": [
    {
     "data": {
      "text/html": [
       "<div>\n",
       "<style scoped>\n",
       "    .dataframe tbody tr th:only-of-type {\n",
       "        vertical-align: middle;\n",
       "    }\n",
       "\n",
       "    .dataframe tbody tr th {\n",
       "        vertical-align: top;\n",
       "    }\n",
       "\n",
       "    .dataframe thead th {\n",
       "        text-align: right;\n",
       "    }\n",
       "</style>\n",
       "<table border=\"1\" class=\"dataframe\">\n",
       "  <thead>\n",
       "    <tr style=\"text-align: right;\">\n",
       "      <th></th>\n",
       "      <th>Hours</th>\n",
       "      <th>Hits</th>\n",
       "    </tr>\n",
       "  </thead>\n",
       "  <tbody>\n",
       "    <tr>\n",
       "      <th>0</th>\n",
       "      <td>1</td>\n",
       "      <td>2272.0</td>\n",
       "    </tr>\n",
       "    <tr>\n",
       "      <th>1</th>\n",
       "      <td>2</td>\n",
       "      <td>NaN</td>\n",
       "    </tr>\n",
       "    <tr>\n",
       "      <th>2</th>\n",
       "      <td>3</td>\n",
       "      <td>1386.0</td>\n",
       "    </tr>\n",
       "    <tr>\n",
       "      <th>3</th>\n",
       "      <td>4</td>\n",
       "      <td>1365.0</td>\n",
       "    </tr>\n",
       "    <tr>\n",
       "      <th>4</th>\n",
       "      <td>5</td>\n",
       "      <td>1488.0</td>\n",
       "    </tr>\n",
       "  </tbody>\n",
       "</table>\n",
       "</div>"
      ],
      "text/plain": [
       "   Hours    Hits\n",
       "0      1  2272.0\n",
       "1      2     NaN\n",
       "2      3  1386.0\n",
       "3      4  1365.0\n",
       "4      5  1488.0"
      ]
     },
     "execution_count": 3,
     "metadata": {},
     "output_type": "execute_result"
    }
   ],
   "source": [
    "dataset = pd.read_csv('C:/Users/Som/Desktop/Datasets/web_traffic.tsv', delimiter='\\t',header = None,)\n",
    "dataset.columns = ['Hours','Hits']\n",
    "dataset.head()"
   ]
  },
  {
   "cell_type": "code",
   "execution_count": 4,
   "metadata": {},
   "outputs": [
    {
     "name": "stdout",
     "output_type": "stream",
     "text": [
      "<class 'pandas.core.frame.DataFrame'>\n",
      "RangeIndex: 743 entries, 0 to 742\n",
      "Data columns (total 2 columns):\n",
      "Hours    743 non-null int64\n",
      "Hits     735 non-null float64\n",
      "dtypes: float64(1), int64(1)\n",
      "memory usage: 11.7 KB\n"
     ]
    }
   ],
   "source": [
    "dataset.info()"
   ]
  },
  {
   "cell_type": "code",
   "execution_count": 5,
   "metadata": {},
   "outputs": [
    {
     "data": {
      "text/html": [
       "<div>\n",
       "<style scoped>\n",
       "    .dataframe tbody tr th:only-of-type {\n",
       "        vertical-align: middle;\n",
       "    }\n",
       "\n",
       "    .dataframe tbody tr th {\n",
       "        vertical-align: top;\n",
       "    }\n",
       "\n",
       "    .dataframe thead th {\n",
       "        text-align: right;\n",
       "    }\n",
       "</style>\n",
       "<table border=\"1\" class=\"dataframe\">\n",
       "  <thead>\n",
       "    <tr style=\"text-align: right;\">\n",
       "      <th></th>\n",
       "      <th>Hours</th>\n",
       "      <th>Hits</th>\n",
       "    </tr>\n",
       "  </thead>\n",
       "  <tbody>\n",
       "    <tr>\n",
       "      <th>0</th>\n",
       "      <td>1</td>\n",
       "      <td>2272.0</td>\n",
       "    </tr>\n",
       "    <tr>\n",
       "      <th>2</th>\n",
       "      <td>3</td>\n",
       "      <td>1386.0</td>\n",
       "    </tr>\n",
       "    <tr>\n",
       "      <th>3</th>\n",
       "      <td>4</td>\n",
       "      <td>1365.0</td>\n",
       "    </tr>\n",
       "    <tr>\n",
       "      <th>4</th>\n",
       "      <td>5</td>\n",
       "      <td>1488.0</td>\n",
       "    </tr>\n",
       "    <tr>\n",
       "      <th>5</th>\n",
       "      <td>6</td>\n",
       "      <td>1337.0</td>\n",
       "    </tr>\n",
       "  </tbody>\n",
       "</table>\n",
       "</div>"
      ],
      "text/plain": [
       "   Hours    Hits\n",
       "0      1  2272.0\n",
       "2      3  1386.0\n",
       "3      4  1365.0\n",
       "4      5  1488.0\n",
       "5      6  1337.0"
      ]
     },
     "execution_count": 5,
     "metadata": {},
     "output_type": "execute_result"
    }
   ],
   "source": [
    "dataset = dataset.dropna(axis=0)\n",
    "dataset.head()"
   ]
  },
  {
   "cell_type": "code",
   "execution_count": 6,
   "metadata": {},
   "outputs": [
    {
     "data": {
      "text/plain": [
       "((735, 1), (735,))"
      ]
     },
     "execution_count": 6,
     "metadata": {},
     "output_type": "execute_result"
    }
   ],
   "source": [
    "x = dataset.iloc[:,0:1].values \n",
    "y = dataset.iloc[:,-1].values \n",
    "x.shape, y.shape"
   ]
  },
  {
   "cell_type": "code",
   "execution_count": 7,
   "metadata": {},
   "outputs": [
    {
     "data": {
      "image/png": "[encoded data removed]",
      "text/plain": [
       "<Figure size 720x432 with 1 Axes>"
      ]
     },
     "metadata": {},
     "output_type": "display_data"
    }
   ],
   "source": [
    "plt.style.use('tableau-colorblind10')\n",
    "plt.figure(figsize=(10,6))\n",
    "plt.scatter(x,y,color='black')\n",
    "plt.xlabel('Hours')\n",
    "plt.ylabel('Hits per hour')\n",
    "plt.title('Request Hits vs Hours')\n",
    "plt.show()"
   ]
  },
  {
   "cell_type": "code",
   "execution_count": 8,
   "metadata": {},
   "outputs": [],
   "source": [
    "from sklearn.linear_model import LinearRegression"
   ]
  },
  {
   "cell_type": "code",
   "execution_count": 9,
   "metadata": {},
   "outputs": [
    {
     "data": {
      "text/plain": [
       "LinearRegression(copy_X=True, fit_intercept=True, n_jobs=1, normalize=False)"
      ]
     },
     "execution_count": 9,
     "metadata": {},
     "output_type": "execute_result"
    }
   ],
   "source": [
    "model = LinearRegression()\n",
    "model.fit(x,y)"
   ]
  },
  {
   "cell_type": "code",
   "execution_count": 10,
   "metadata": {},
   "outputs": [
    {
     "data": {
      "text/plain": [
       "array([ 991.62106319,  996.81344744,  999.40963957, 1002.0058317 ,\n",
       "       1004.60202383, 1007.19821595, 1009.79440808, 1012.39060021,\n",
       "       1014.98679234, 1017.58298447, 1020.17917659, 1022.77536872,\n",
       "       1025.37156085, 1027.96775298, 1030.5639451 , 1033.16013723,\n",
       "       1035.75632936, 1038.35252149, 1040.94871362, 1043.54490574,\n",
       "       1046.14109787, 1051.33348213, 1053.92967425, 1056.52586638,\n",
       "       1059.12205851, 1061.71825064, 1064.31444277, 1066.91063489,\n",
       "       1069.50682702, 1072.10301915, 1074.69921128, 1077.2954034 ,\n",
       "       1079.89159553, 1082.48778766, 1085.08397979, 1087.68017192,\n",
       "       1090.27636404, 1092.87255617, 1095.4687483 , 1098.06494043,\n",
       "       1100.66113255, 1103.25732468, 1105.85351681, 1108.44970894,\n",
       "       1111.04590106, 1116.23828532, 1118.83447745, 1121.43066958,\n",
       "       1124.0268617 , 1126.62305383, 1129.21924596, 1131.81543809,\n",
       "       1134.41163021, 1137.00782234, 1139.60401447, 1142.2002066 ,\n",
       "       1144.79639873, 1147.39259085, 1149.98878298, 1152.58497511,\n",
       "       1155.18116724, 1157.77735936, 1160.37355149, 1162.96974362,\n",
       "       1165.56593575, 1168.16212788, 1170.75832   , 1173.35451213,\n",
       "       1175.95070426, 1178.54689639, 1181.14308851, 1183.73928064,\n",
       "       1186.33547277, 1188.9316649 , 1191.52785702, 1194.12404915,\n",
       "       1196.72024128, 1199.31643341, 1201.91262554, 1204.50881766,\n",
       "       1207.10500979, 1209.70120192, 1212.29739405, 1214.89358617,\n",
       "       1217.4897783 , 1220.08597043, 1222.68216256, 1225.27835469,\n",
       "       1227.87454681, 1230.47073894, 1233.06693107, 1238.25931532,\n",
       "       1240.85550745, 1243.45169958, 1246.04789171, 1248.64408384,\n",
       "       1251.24027596, 1253.83646809, 1256.43266022, 1259.02885235,\n",
       "       1261.62504447, 1264.2212366 , 1266.81742873, 1269.41362086,\n",
       "       1272.00981299, 1274.60600511, 1277.20219724, 1279.79838937,\n",
       "       1282.3945815 , 1284.99077362, 1287.58696575, 1290.18315788,\n",
       "       1292.77935001, 1295.37554213, 1297.97173426, 1300.56792639,\n",
       "       1303.16411852, 1305.76031065, 1308.35650277, 1310.9526949 ,\n",
       "       1313.54888703, 1316.14507916, 1318.74127128, 1321.33746341,\n",
       "       1323.93365554, 1326.52984767, 1329.1260398 , 1331.72223192,\n",
       "       1334.31842405, 1336.91461618, 1339.51080831, 1342.10700043,\n",
       "       1344.70319256, 1347.29938469, 1349.89557682, 1352.49176895,\n",
       "       1355.08796107, 1357.6841532 , 1360.28034533, 1362.87653746,\n",
       "       1365.47272958, 1368.06892171, 1370.66511384, 1373.26130597,\n",
       "       1375.85749809, 1378.45369022, 1381.04988235, 1383.64607448,\n",
       "       1386.24226661, 1391.43465086, 1394.03084299, 1396.62703512,\n",
       "       1399.22322724, 1401.81941937, 1404.4156115 , 1407.01180363,\n",
       "       1409.60799576, 1412.20418788, 1414.80038001, 1417.39657214,\n",
       "       1419.99276427, 1422.58895639, 1425.18514852, 1427.78134065,\n",
       "       1430.37753278, 1432.97372491, 1435.56991703, 1438.16610916,\n",
       "       1440.76230129, 1443.35849342, 1445.95468554, 1448.55087767,\n",
       "       1451.1470698 , 1453.74326193, 1461.53183831, 1464.12803044,\n",
       "       1466.72422257, 1469.32041469, 1471.91660682, 1474.51279895,\n",
       "       1477.10899108, 1479.7051832 , 1482.30137533, 1484.89756746,\n",
       "       1487.49375959, 1490.08995172, 1492.68614384, 1495.28233597,\n",
       "       1497.8785281 , 1500.47472023, 1503.07091235, 1505.66710448,\n",
       "       1508.26329661, 1510.85948874, 1513.45568087, 1516.05187299,\n",
       "       1518.64806512, 1521.24425725, 1523.84044938, 1526.4366415 ,\n",
       "       1529.03283363, 1531.62902576, 1536.82141002, 1539.41760214,\n",
       "       1542.01379427, 1544.6099864 , 1547.20617853, 1549.80237065,\n",
       "       1552.39856278, 1554.99475491, 1557.59094704, 1560.18713916,\n",
       "       1562.78333129, 1565.37952342, 1567.97571555, 1570.57190768,\n",
       "       1573.1680998 , 1575.76429193, 1578.36048406, 1580.95667619,\n",
       "       1583.55286831, 1586.14906044, 1588.74525257, 1591.3414447 ,\n",
       "       1593.93763683, 1596.53382895, 1599.13002108, 1601.72621321,\n",
       "       1604.32240534, 1606.91859746, 1609.51478959, 1612.11098172,\n",
       "       1614.70717385, 1617.30336598, 1619.8995581 , 1622.49575023,\n",
       "       1625.09194236, 1627.68813449, 1630.28432661, 1632.88051874,\n",
       "       1635.47671087, 1638.072903  , 1640.66909512, 1643.26528725,\n",
       "       1645.86147938, 1648.45767151, 1651.05386364, 1653.65005576,\n",
       "       1656.24624789, 1658.84244002, 1661.43863215, 1664.03482427,\n",
       "       1666.6310164 , 1669.22720853, 1671.82340066, 1674.41959279,\n",
       "       1677.01578491, 1679.61197704, 1682.20816917, 1684.8043613 ,\n",
       "       1687.40055342, 1689.99674555, 1692.59293768, 1695.18912981,\n",
       "       1697.78532194, 1700.38151406, 1702.97770619, 1705.57389832,\n",
       "       1708.17009045, 1710.76628257, 1713.3624747 , 1715.95866683,\n",
       "       1718.55485896, 1721.15105109, 1723.74724321, 1726.34343534,\n",
       "       1728.93962747, 1731.5358196 , 1734.13201172, 1736.72820385,\n",
       "       1739.32439598, 1741.92058811, 1744.51678023, 1747.11297236,\n",
       "       1749.70916449, 1752.30535662, 1754.90154875, 1757.49774087,\n",
       "       1760.093933  , 1762.69012513, 1765.28631726, 1767.88250938,\n",
       "       1770.47870151, 1773.07489364, 1775.67108577, 1778.2672779 ,\n",
       "       1780.86347002, 1783.45966215, 1786.05585428, 1788.65204641,\n",
       "       1791.24823853, 1793.84443066, 1796.44062279, 1799.03681492,\n",
       "       1801.63300705, 1804.22919917, 1806.8253913 , 1809.42158343,\n",
       "       1812.01777556, 1814.61396768, 1817.21015981, 1819.80635194,\n",
       "       1822.40254407, 1824.99873619, 1827.59492832, 1830.19112045,\n",
       "       1832.78731258, 1835.38350471, 1837.97969683, 1840.57588896,\n",
       "       1843.17208109, 1845.76827322, 1848.36446534, 1850.96065747,\n",
       "       1853.5568496 , 1856.15304173, 1858.74923386, 1861.34542598,\n",
       "       1863.94161811, 1866.53781024, 1869.13400237, 1871.73019449,\n",
       "       1874.32638662, 1876.92257875, 1879.51877088, 1882.11496301,\n",
       "       1884.71115513, 1887.30734726, 1889.90353939, 1892.49973152,\n",
       "       1895.09592364, 1897.69211577, 1900.2883079 , 1902.88450003,\n",
       "       1905.48069216, 1908.07688428, 1910.67307641, 1913.26926854,\n",
       "       1915.86546067, 1918.46165279, 1921.05784492, 1923.65403705,\n",
       "       1926.25022918, 1928.8464213 , 1931.44261343, 1934.03880556,\n",
       "       1936.63499769, 1939.23118982, 1941.82738194, 1944.42357407,\n",
       "       1947.0197662 , 1949.61595833, 1952.21215045, 1954.80834258,\n",
       "       1957.40453471, 1960.00072684, 1962.59691897, 1965.19311109,\n",
       "       1967.78930322, 1970.38549535, 1972.98168748, 1975.5778796 ,\n",
       "       1978.17407173, 1980.77026386, 1983.36645599, 1985.96264812,\n",
       "       1988.55884024, 1991.15503237, 1993.7512245 , 1996.34741663,\n",
       "       1998.94360875, 2001.53980088, 2004.13599301, 2006.73218514,\n",
       "       2009.32837726, 2011.92456939, 2014.52076152, 2017.11695365,\n",
       "       2019.71314578, 2022.3093379 , 2024.90553003, 2027.50172216,\n",
       "       2030.09791429, 2032.69410641, 2035.29029854, 2037.88649067,\n",
       "       2040.4826828 , 2043.07887493, 2045.67506705, 2048.27125918,\n",
       "       2050.86745131, 2053.46364344, 2056.05983556, 2058.65602769,\n",
       "       2061.25221982, 2063.84841195, 2066.44460408, 2069.0407962 ,\n",
       "       2071.63698833, 2074.23318046, 2076.82937259, 2079.42556471,\n",
       "       2082.02175684, 2084.61794897, 2087.2141411 , 2089.81033322,\n",
       "       2092.40652535, 2095.00271748, 2097.59890961, 2100.19510174,\n",
       "       2102.79129386, 2105.38748599, 2107.98367812, 2110.57987025,\n",
       "       2113.17606237, 2115.7722545 , 2118.36844663, 2120.96463876,\n",
       "       2123.56083089, 2126.15702301, 2128.75321514, 2131.34940727,\n",
       "       2133.9455994 , 2136.54179152, 2139.13798365, 2141.73417578,\n",
       "       2144.33036791, 2146.92656004, 2149.52275216, 2152.11894429,\n",
       "       2154.71513642, 2157.31132855, 2159.90752067, 2162.5037128 ,\n",
       "       2165.09990493, 2167.69609706, 2170.29228919, 2172.88848131,\n",
       "       2175.48467344, 2178.08086557, 2180.6770577 , 2183.27324982,\n",
       "       2185.86944195, 2188.46563408, 2191.06182621, 2193.65801833,\n",
       "       2196.25421046, 2198.85040259, 2201.44659472, 2204.04278685,\n",
       "       2206.63897897, 2209.2351711 , 2211.83136323, 2214.42755536,\n",
       "       2217.02374748, 2219.61993961, 2222.21613174, 2224.81232387,\n",
       "       2227.408516  , 2230.00470812, 2232.60090025, 2235.19709238,\n",
       "       2237.79328451, 2240.38947663, 2242.98566876, 2245.58186089,\n",
       "       2248.17805302, 2250.77424515, 2253.37043727, 2255.9666294 ,\n",
       "       2258.56282153, 2261.15901366, 2263.75520578, 2266.35139791,\n",
       "       2268.94759004, 2271.54378217, 2274.13997429, 2276.73616642,\n",
       "       2279.33235855, 2281.92855068, 2284.52474281, 2287.12093493,\n",
       "       2289.71712706, 2292.31331919, 2294.90951132, 2297.50570344,\n",
       "       2300.10189557, 2302.6980877 , 2305.29427983, 2307.89047196,\n",
       "       2310.48666408, 2313.08285621, 2315.67904834, 2318.27524047,\n",
       "       2320.87143259, 2323.46762472, 2326.06381685, 2328.66000898,\n",
       "       2331.25620111, 2333.85239323, 2336.44858536, 2339.04477749,\n",
       "       2341.64096962, 2344.23716174, 2346.83335387, 2349.429546  ,\n",
       "       2352.02573813, 2354.62193026, 2357.21812238, 2359.81431451,\n",
       "       2362.41050664, 2365.00669877, 2367.60289089, 2370.19908302,\n",
       "       2372.79527515, 2375.39146728, 2377.9876594 , 2380.58385153,\n",
       "       2383.18004366, 2385.77623579, 2388.37242792, 2390.96862004,\n",
       "       2393.56481217, 2396.1610043 , 2398.75719643, 2401.35338855,\n",
       "       2403.94958068, 2406.54577281, 2409.14196494, 2411.73815707,\n",
       "       2414.33434919, 2416.93054132, 2419.52673345, 2422.12292558,\n",
       "       2424.7191177 , 2427.31530983, 2429.91150196, 2432.50769409,\n",
       "       2435.10388622, 2437.70007834, 2440.29627047, 2442.8924626 ,\n",
       "       2445.48865473, 2448.08484685, 2450.68103898, 2453.27723111,\n",
       "       2455.87342324, 2458.46961536, 2461.06580749, 2463.66199962,\n",
       "       2466.25819175, 2468.85438388, 2471.450576  , 2474.04676813,\n",
       "       2476.64296026, 2479.23915239, 2481.83534451, 2484.43153664,\n",
       "       2487.02772877, 2489.6239209 , 2492.22011303, 2494.81630515,\n",
       "       2497.41249728, 2500.00868941, 2502.60488154, 2505.20107366,\n",
       "       2507.79726579, 2510.39345792, 2512.98965005, 2515.58584218,\n",
       "       2518.1820343 , 2520.77822643, 2523.37441856, 2525.97061069,\n",
       "       2528.56680281, 2531.16299494, 2533.75918707, 2536.3553792 ,\n",
       "       2538.95157133, 2541.54776345, 2544.14395558, 2546.74014771,\n",
       "       2549.33633984, 2551.93253196, 2554.52872409, 2557.12491622,\n",
       "       2559.72110835, 2562.31730047, 2564.9134926 , 2567.50968473,\n",
       "       2570.10587686, 2572.70206899, 2575.29826111, 2577.89445324,\n",
       "       2580.49064537, 2583.0868375 , 2585.68302962, 2588.27922175,\n",
       "       2590.87541388, 2593.47160601, 2596.06779814, 2598.66399026,\n",
       "       2601.26018239, 2603.85637452, 2606.45256665, 2609.04875877,\n",
       "       2611.6449509 , 2614.24114303, 2616.83733516, 2619.43352729,\n",
       "       2622.02971941, 2624.62591154, 2627.22210367, 2629.8182958 ,\n",
       "       2632.41448792, 2635.01068005, 2637.60687218, 2640.20306431,\n",
       "       2642.79925643, 2645.39544856, 2647.99164069, 2650.58783282,\n",
       "       2653.18402495, 2655.78021707, 2658.3764092 , 2660.97260133,\n",
       "       2663.56879346, 2666.16498558, 2668.76117771, 2671.35736984,\n",
       "       2673.95356197, 2676.5497541 , 2679.14594622, 2681.74213835,\n",
       "       2684.33833048, 2686.93452261, 2689.53071473, 2692.12690686,\n",
       "       2694.72309899, 2697.31929112, 2699.91548325, 2702.51167537,\n",
       "       2705.1078675 , 2707.70405963, 2710.30025176, 2712.89644388,\n",
       "       2715.49263601, 2718.08882814, 2720.68502027, 2723.28121239,\n",
       "       2725.87740452, 2728.47359665, 2731.06978878, 2733.66598091,\n",
       "       2736.26217303, 2738.85836516, 2741.45455729, 2744.05074942,\n",
       "       2746.64694154, 2749.24313367, 2751.8393258 , 2754.43551793,\n",
       "       2757.03171006, 2759.62790218, 2762.22409431, 2764.82028644,\n",
       "       2767.41647857, 2770.01267069, 2772.60886282, 2775.20505495,\n",
       "       2777.80124708, 2780.39743921, 2782.99363133, 2785.58982346,\n",
       "       2788.18601559, 2790.78220772, 2793.37839984, 2795.97459197,\n",
       "       2798.5707841 , 2801.16697623, 2803.76316836, 2806.35936048,\n",
       "       2808.95555261, 2811.55174474, 2814.14793687, 2816.74412899,\n",
       "       2819.34032112, 2821.93651325, 2824.53270538, 2827.1288975 ,\n",
       "       2829.72508963, 2832.32128176, 2834.91747389, 2837.51366602,\n",
       "       2840.10985814, 2842.70605027, 2845.3022424 , 2847.89843453,\n",
       "       2850.49462665, 2853.09081878, 2855.68701091, 2858.28320304,\n",
       "       2860.87939517, 2863.47558729, 2866.07177942, 2868.66797155,\n",
       "       2871.26416368, 2873.8603558 , 2876.45654793, 2879.05274006,\n",
       "       2881.64893219, 2884.24512432, 2886.84131644, 2889.43750857,\n",
       "       2892.0337007 , 2894.62989283, 2897.22608495, 2899.82227708,\n",
       "       2902.41846921, 2905.01466134, 2907.61085346, 2910.20704559,\n",
       "       2912.80323772, 2915.39942985, 2917.99562198])"
      ]
     },
     "execution_count": 10,
     "metadata": {},
     "output_type": "execute_result"
    }
   ],
   "source": [
    "y_pred = model.predict(x)\n",
    "y_pred"
   ]
  },
  {
   "cell_type": "code",
   "execution_count": 11,
   "metadata": {},
   "outputs": [
    {
     "data": {
      "text/plain": [
       "Text(0,0.5,'Request Hits')"
      ]
     },
     "execution_count": 11,
     "metadata": {},
     "output_type": "execute_result"
    },
    {
     "data": {
      "image/png": "[encoded data removed]",
      "text/plain": [
       "<Figure size 720x432 with 1 Axes>"
      ]
     },
     "metadata": {},
     "output_type": "display_data"
    }
   ],
   "source": [
    "plt.style.use('tableau-colorblind10')\n",
    "plt.figure(figsize=(10,6))\n",
    "plt.scatter(x,y)\n",
    "plt.plot(x,y_pred,color='r')\n",
    "plt.xlabel('Hours')\n",
    "plt.ylabel('Request Hits')"
   ]
  },
  {
   "cell_type": "code",
   "execution_count": 12,
   "metadata": {},
   "outputs": [],
   "source": [
    "from sklearn.metrics import r2_score\n",
    "from sklearn.metrics import mean_absolute_error\n",
    "from sklearn.metrics import mean_squared_error"
   ]
  },
  {
   "cell_type": "code",
   "execution_count": 13,
   "metadata": {},
   "outputs": [],
   "source": [
    "r2 = r2_score(y,y_pred)\n",
    "mae = mean_absolute_error(y,y_pred)\n",
    "mse = mean_squared_error(y,y_pred)"
   ]
  },
  {
   "cell_type": "code",
   "execution_count": 14,
   "metadata": {},
   "outputs": [
    {
     "name": "stdout",
     "output_type": "stream",
     "text": [
      "R_2:  0.41632369094258925\n",
      "Mean Absolute Error:  504.8810103756525\n",
      "Mean Squared Error:  431822.812707181\n"
     ]
    }
   ],
   "source": [
    "print('R_2: ', r2)\n",
    "print('Mean Absolute Error: ', mae)\n",
    "print('Mean Squared Error: ', mse)"
   ]
  },
  {
   "cell_type": "code",
   "execution_count": 15,
   "metadata": {},
   "outputs": [
    {
     "name": "stdout",
     "output_type": "stream",
     "text": [
      "Coefficient b1 =  [2.59619213]\n",
      "Intercept b0 =  989.0248710607153\n"
     ]
    }
   ],
   "source": [
    "b1 = model.coef_\n",
    "b0 = model.intercept_\n",
    "print('Coefficient b1 = ', b1)\n",
    "print('Intercept b0 = ', b0)\n"
   ]
  },
  {
   "cell_type": "code",
   "execution_count": 16,
   "metadata": {},
   "outputs": [],
   "source": [
    "x2 = np.concatenate((x,x**2),axis=1)\n",
    "x3 = np.concatenate((x,x**2,x**3),axis=1)"
   ]
  },
  {
   "cell_type": "code",
   "execution_count": 17,
   "metadata": {},
   "outputs": [],
   "source": [
    "from sklearn.linear_model import LinearRegression"
   ]
  },
  {
   "cell_type": "code",
   "execution_count": 18,
   "metadata": {},
   "outputs": [],
   "source": [
    "poly_2 = LinearRegression()\n",
    "poly_3 = LinearRegression()"
   ]
  },
  {
   "cell_type": "code",
   "execution_count": 22,
   "metadata": {},
   "outputs": [
    {
     "data": {
      "text/plain": [
       "LinearRegression(copy_X=True, fit_intercept=True, n_jobs=1, normalize=False)"
      ]
     },
     "execution_count": 22,
     "metadata": {},
     "output_type": "execute_result"
    }
   ],
   "source": [
    "poly_2.fit(x2,y)\n",
    "poly_3.fit(x3,y)"
   ]
  },
  {
   "cell_type": "code",
   "execution_count": 23,
   "metadata": {},
   "outputs": [],
   "source": [
    "y_pred_poly2 = poly_2.predict(x2)\n",
    "y_pred_poly3 = poly_3.predict(x3)"
   ]
  },
  {
   "cell_type": "code",
   "execution_count": 24,
   "metadata": {},
   "outputs": [],
   "source": [
    "from sklearn.metrics import r2_score\n",
    "from sklearn.metrics import mean_absolute_error\n",
    "from sklearn.metrics import mean_squared_error"
   ]
  },
  {
   "cell_type": "code",
   "execution_count": 28,
   "metadata": {},
   "outputs": [
    {
     "name": "stdout",
     "output_type": "stream",
     "text": [
      "==========Polynomial Regression Degree = 2==========\n",
      "\n",
      "R_2:  0.6690122985058977\n",
      "Mean Absolute Error:  389.2663189980562\n",
      "Mean Squared Error:  244875.52092269278\n",
      "\n",
      "\n",
      "==========Polynomial Regression Degree = 3==========\n",
      "\n",
      "R_2:  0.7437366099834488\n",
      "Mean Absolute Error:  344.1036970490651\n",
      "Mean Squared Error:  189592.0326962248\n"
     ]
    }
   ],
   "source": [
    "print(\"=\"*10+'Polynomial Regression Degree = 2'+\"=\"*10+'\\n')\n",
    "r2_2 = r2_score(y,y_pred_poly2)\n",
    "mae_2 = mean_absolute_error(y,y_pred_poly2)\n",
    "mse_2 = mean_squared_error(y,y_pred_poly2)\n",
    "print('R_2: ', r2_2)\n",
    "print('Mean Absolute Error: ', mae_2)\n",
    "print('Mean Squared Error: ', mse_2)\n",
    "print('\\n')\n",
    "print(\"=\"*10+'Polynomial Regression Degree = 3'+\"=\"*10+'\\n')\n",
    "r2_3 = r2_score(y,y_pred_poly3)\n",
    "mae_3 = mean_absolute_error(y,y_pred_poly3)\n",
    "mse_3 = mean_squared_error(y,y_pred_poly3)\n",
    "print('R_2: ', r2_3)\n",
    "print('Mean Absolute Error: ', mae_3)\n",
    "print('Mean Squared Error: ', mse_3)"
   ]
  },
  {
   "cell_type": "code",
   "execution_count": null,
   "metadata": {},
   "outputs": [],
   "source": []
  }
 ],
 "metadata": {
  "kernelspec": {
   "display_name": "Python 3",
   "language": "python",
   "name": "python3"
  },
  "language_info": {
   "codemirror_mode": {
    "name": "ipython",
    "version": 3
   },
   "file_extension": ".py",
   "mimetype": "text/x-python",
   "name": "python",
   "nbconvert_exporter": "python",
   "pygments_lexer": "ipython3",
   "version": "3.6.5"
  }
 },
 "nbformat": 4,
 "nbformat_minor": 2
}
